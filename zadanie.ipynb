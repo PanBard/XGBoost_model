{
  "nbformat": 4,
  "nbformat_minor": 0,
  "metadata": {
    "colab": {
      "provenance": []
    },
    "kernelspec": {
      "name": "python3",
      "display_name": "Python 3"
    },
    "language_info": {
      "name": "python"
    }
  },
  "cells": [
    {
      "cell_type": "markdown",
      "source": [
        "# Zbiór danych\n",
        "Zbiór danych *kredyt.csv* zawiera informacje dotyczące wniosków o kredyt hipoteczny w penym banku. Poszczególne kolumny reprezentują różne cechy związane z każdym wnioskiem:\n",
        "\n",
        "- Loan_ID: Unikalny identyfikator każdego wniosku o kredyt.\n",
        "- Gender: Płeć osoby składającej wniosek (mężczyzna/kobieta).\n",
        "- Married: Status małżeński (żonaty/nie).\n",
        "- Dependents: Liczba osób na utrzymaniu osoby składającej wniosek.\n",
        "- Education: Poziom edukacji osoby składającej wniosek.\n",
        "- Self_Employed: Czy osoba składająca wniosek jest samozatrudniona (tak/nie).\n",
        "- ApplicantIncome: Dochód osoby składającej wniosek.\n",
        "- CoapplicantIncome: Dochód współmałżonka lub współmałżonki osoby składającej wniosek.\n",
        "- LoanAmount: Kwota kredytu hipotecznego wnioskowana przez osobę składającą wniosek.\n",
        "- Loan_Amount_Term: Okres kredytowania (w miesiącach).\n",
        "- Credit_History: Historia kredytowa (czy osoba składająca wniosek miała wcześniej kredyt hipoteczny, 1 - tak, 0 - nie).\n",
        "- Property_Area: Lokalizacja nieruchomości (miejska/półmiejska/wiejska).\n",
        "- Loan_Status: Status kredytu (zatwierdzony/niezatwierdzony).\n",
        "\n",
        "# Zadanie\n",
        "Przeprowadź eksploracyjną analizę danych zawartych w zbiorze *kredyt.csv*.\n",
        "W tym celu wykonaj m.in. nastepujące kroki:\n",
        "1. zaimportj potrzebne biblioteki\n",
        "2. wczytaj zbiór danych\n",
        "3. scharakteryzuj zbiór (kształt, rodzaj zmiennych, statystyki opisowe)\n",
        "4. sprwdź, czy w zbiorze są jakieś braki, jeśli tak zadecyduj co z nimi zrobić\n",
        "5. postaw minimum 3 pytania badawcze / hipotezy badawcze; pytania badawcze powinny być złożone (min. 3 zminne). Za pomocą wykresów określ, czy postawione hipotezy były słuszne czy nie. Podsumuj jakie wnioski można wyciągnąć po przeprowadzonej analizie  .\n",
        "6. zbuduj model XGBoost prognozujacy status kredytu. Dostosuj hiperparametry modelu.\n"
      ],
      "metadata": {
        "id": "CNl2GsSenHgb"
      }
    },
    {
      "cell_type": "code",
      "source": [],
      "metadata": {
        "id": "tISS3hDBYsZh"
      },
      "execution_count": null,
      "outputs": []
    }
  ]
}